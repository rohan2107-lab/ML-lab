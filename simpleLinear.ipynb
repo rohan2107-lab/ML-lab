{
 "cells": [
  {
   "cell_type": "code",
   "execution_count": 1,
   "metadata": {},
   "outputs": [],
   "source": [
    "# importing library..\n",
    "import numpy as np\n"
   ]
  },
  {
   "cell_type": "code",
   "execution_count": 2,
   "metadata": {},
   "outputs": [],
   "source": [
    "# Sample data (x: independent variable, y: dependent variable)\n",
    "x = np.array([1, 2, 3, 4, 5])\n",
    "y = np.array([1, 2, 3, 4, 5])\n",
    "\n"
   ]
  },
  {
   "cell_type": "code",
   "execution_count": 3,
   "metadata": {},
   "outputs": [],
   "source": [
    "# Calculate slope (m) and intercept (b) using the least squares method\n",
    "n = len(x)\n",
    "m = (n * np.sum(x * y) - np.sum(x) * np.sum(y)) / (n * np.sum(x*2) - (np.sum(x))*2)\n",
    "b = (np.sum(y) - m * np.sum(x)) / n\n"
   ]
  },
  {
   "cell_type": "code",
   "execution_count": 4,
   "metadata": {},
   "outputs": [
    {
     "name": "stdout",
     "output_type": "stream",
     "text": [
      "Linear Regression Equation: y = 0.4166666666666667x + 1.75\n"
     ]
    }
   ],
   "source": [
    "# Output the equation of the line\n",
    "print(f\"Linear Regression Equation: y = {m}x + {b}\")\n"
   ]
  },
  {
   "cell_type": "code",
   "execution_count": 6,
   "metadata": {},
   "outputs": [
    {
     "name": "stdout",
     "output_type": "stream",
     "text": [
      "Predictions : [2.16666667 2.58333333 3.         3.41666667 3.83333333]\n"
     ]
    }
   ],
   "source": [
    "# Make predictions\n",
    "predictions = m * x + b\n",
    "print (f\"Predictions : {predictions}\")"
   ]
  }
 ],
 "metadata": {
  "kernelspec": {
   "display_name": "Python 3",
   "language": "python",
   "name": "python3"
  },
  "language_info": {
   "codemirror_mode": {
    "name": "ipython",
    "version": 3
   },
   "file_extension": ".py",
   "mimetype": "text/x-python",
   "name": "python",
   "nbconvert_exporter": "python",
   "pygments_lexer": "ipython3",
   "version": "3.12.1"
  }
 },
 "nbformat": 4,
 "nbformat_minor": 2
}
