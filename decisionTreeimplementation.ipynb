{
 "cells": [
  {
   "cell_type": "code",
   "execution_count": 2,
   "metadata": {},
   "outputs": [],
   "source": [
    "import numpy as np"
   ]
  },
  {
   "cell_type": "code",
   "execution_count": 3,
   "metadata": {},
   "outputs": [],
   "source": [
    "# Calculate Gini Index\n",
    "def gini_index(y):\n",
    "    classes, counts = np.unique(y, return_counts=True)\n",
    "    prob = counts / len(y)\n",
    "    return 1 - np.sum(prob**2)"
   ]
  },
  {
   "cell_type": "code",
   "execution_count": 4,
   "metadata": {},
   "outputs": [],
   "source": [
    "# Calculate Information Gain\n",
    "def information_gain(y, left_y, right_y):\n",
    "    entropy_before = gini_index(y)\n",
    "    left_weight = len(left_y) / len(y)\n",
    "    right_weight = len(right_y) / len(y)\n",
    "    entropy_after = left_weight * gini_index(left_y) + right_weight * gini_index(right_y)\n",
    "    return entropy_before - entropy_after\n"
   ]
  },
  {
   "cell_type": "code",
   "execution_count": 5,
   "metadata": {},
   "outputs": [],
   "source": [
    "# Find the best split based on Information Gain\n",
    "def best_split(X, y):\n",
    "    best_ig = 0\n",
    "    best_split_point = None\n",
    "    best_left_indices = None\n",
    "    best_right_indices = None\n",
    "    \n",
    "    for feature_index in range(X.shape[1]):\n",
    "        feature_values = np.unique(X[:, feature_index])\n",
    "        for value in feature_values:\n",
    "            left_mask = X[:, feature_index] <= value\n",
    "            right_mask = ~left_mask\n",
    "            \n",
    "            left_y = y[left_mask]\n",
    "            right_y = y[right_mask]\n",
    "            \n",
    "            if len(left_y) == 0 or len(right_y) == 0:\n",
    "                continue\n",
    "            \n",
    "            ig = information_gain(y, left_y, right_y)\n",
    "            if ig > best_ig:\n",
    "                best_ig = ig\n",
    "                best_split_point = (feature_index, value)\n",
    "                best_left_indices = left_mask\n",
    "                best_right_indices = right_mask\n",
    "                \n",
    "    return best_split_point, best_left_indices, best_right_indices"
   ]
  },
  {
   "cell_type": "code",
   "execution_count": 6,
   "metadata": {},
   "outputs": [],
   "source": [
    "# Build the decision tree\n",
    "def build_tree(X, y, depth=0, max_depth=5):\n",
    "    if len(np.unique(y)) == 1 or depth == max_depth:\n",
    "        return np.bincount(y).argmax()\n",
    "    \n",
    "    best_split_point, left_mask, right_mask = best_split(X, y)\n",
    "    \n",
    "    if best_split_point is None:\n",
    "        return np.bincount(y).argmax()\n",
    "    \n",
    "    feature_index, value = best_split_point\n",
    "    left_tree = build_tree(X[left_mask], y[left_mask], depth + 1, max_depth)\n",
    "    right_tree = build_tree(X[right_mask], y[right_mask], depth + 1, max_depth)\n",
    "    \n",
    "    return (feature_index, value, left_tree, right_tree)"
   ]
  },
  {
   "cell_type": "code",
   "execution_count": 13,
   "metadata": {},
   "outputs": [],
   "source": [
    "def predict(tree, X):\n",
    "    if isinstance(tree, (int, np.integer)):  # Check if the tree is a leaf node (class label)\n",
    "        return tree\n",
    "    \n",
    "    feature_index, value, left_tree, right_tree = tree\n",
    "    if X[feature_index] <= value:\n",
    "        return predict(left_tree, X)\n",
    "    else:\n",
    "        return predict(right_tree, X)\n"
   ]
  },
  {
   "cell_type": "code",
   "execution_count": 14,
   "metadata": {},
   "outputs": [],
   "source": [
    "# Testing the decision tree\n",
    "from sklearn.datasets import load_iris\n",
    "from sklearn.model_selection import train_test_split"
   ]
  },
  {
   "cell_type": "code",
   "execution_count": 15,
   "metadata": {},
   "outputs": [],
   "source": [
    "# Load dataset\n",
    "iris = load_iris()\n",
    "X, y = iris.data, iris.target"
   ]
  },
  {
   "cell_type": "code",
   "execution_count": 16,
   "metadata": {},
   "outputs": [],
   "source": [
    "# Split dataset\n",
    "X_train, X_test, y_train, y_test = train_test_split(X, y, test_size=0.2, random_state=42)"
   ]
  },
  {
   "cell_type": "code",
   "execution_count": 17,
   "metadata": {},
   "outputs": [],
   "source": [
    "# Train decision tree\n",
    "tree = build_tree(X_train, y_train, max_depth=3)"
   ]
  },
  {
   "cell_type": "code",
   "execution_count": 18,
   "metadata": {},
   "outputs": [],
   "source": [
    "# Predict on test set\n",
    "y_pred = np.array([predict(tree, x) for x in X_test])"
   ]
  },
  {
   "cell_type": "code",
   "execution_count": 19,
   "metadata": {},
   "outputs": [
    {
     "name": "stdout",
     "output_type": "stream",
     "text": [
      "Decision Tree Accuracy: 1.00\n"
     ]
    }
   ],
   "source": [
    "# Calculate accuracy\n",
    "accuracy = np.mean(y_pred == y_test)\n",
    "print(f\"Decision Tree Accuracy: {accuracy:.2f}\")"
   ]
  },
  {
   "cell_type": "code",
   "execution_count": 20,
   "metadata": {},
   "outputs": [
    {
     "name": "stdout",
     "output_type": "stream",
     "text": [
      "Sample Predictions:\n",
      "Actual: 1, Predicted: 1\n",
      "Actual: 0, Predicted: 0\n",
      "Actual: 2, Predicted: 2\n",
      "Actual: 1, Predicted: 1\n",
      "Actual: 1, Predicted: 1\n"
     ]
    }
   ],
   "source": [
    "# Print some calculated values\n",
    "print(\"Sample Predictions:\")\n",
    "for i in range(5):\n",
    "    print(f\"Actual: {y_test[i]}, Predicted: {y_pred[i]}\")"
   ]
  },
  {
   "cell_type": "code",
   "execution_count": 21,
   "metadata": {},
   "outputs": [],
   "source": [
    "import matplotlib.pyplot as plt\n",
    "import seaborn as sns"
   ]
  },
  {
   "cell_type": "code",
   "execution_count": null,
   "metadata": {},
   "outputs": [],
   "source": []
  },
  {
   "cell_type": "code",
   "execution_count": 22,
   "metadata": {},
   "outputs": [
    {
     "data": {
      "image/png": "[encoded data removed]",
      "text/plain": [
       "<Figure size 600x400 with 1 Axes>"
      ]
     },
     "metadata": {},
     "output_type": "display_data"
    }
   ],
   "source": [
    "# Plot accuracy comparison\n",
    "plt.figure(figsize=(6, 4))\n",
    "sns.heatmap([[accuracy, 1 - accuracy]], annot=True, cmap=\"coolwarm\", xticklabels=[\"Correct\", \"Incorrect\"], yticklabels=[\"Accuracy\"], cbar=False)\n",
    "plt.title(\"Decision Tree Accuracy Visualization\")\n",
    "plt.show()\n"
   ]
  },
  {
   "cell_type": "code",
   "execution_count": 23,
   "metadata": {},
   "outputs": [
    {
     "data": {
      "image/png": "[encoded data removed]",
      "text/plain": [
       "<Figure size 800x500 with 1 Axes>"
      ]
     },
     "metadata": {},
     "output_type": "display_data"
    }
   ],
   "source": [
    "# Plot feature importance (dummy values for visualization)\n",
    "feature_importance = np.random.rand(X.shape[1])\n",
    "plt.figure(figsize=(8, 5))\n",
    "plt.bar(iris.feature_names, feature_importance, color='teal')\n",
    "plt.xlabel(\"Features\")\n",
    "plt.ylabel(\"Importance Score\")\n",
    "plt.title(\"Feature Importance Visualization\")\n",
    "plt.show()\n"
   ]
  }
 ],
 "metadata": {
  "kernelspec": {
   "display_name": "Python 3",
   "language": "python",
   "name": "python3"
  },
  "language_info": {
   "codemirror_mode": {
    "name": "ipython",
    "version": 3
   },
   "file_extension": ".py",
   "mimetype": "text/x-python",
   "name": "python",
   "nbconvert_exporter": "python",
   "pygments_lexer": "ipython3",
   "version": "3.12.1"
  }
 },
 "nbformat": 4,
 "nbformat_minor": 2
}
